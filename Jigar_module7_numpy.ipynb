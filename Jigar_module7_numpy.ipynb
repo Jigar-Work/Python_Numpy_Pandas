{
 "cells": [
  {
   "cell_type": "code",
   "execution_count": 41,
   "id": "7b55a692",
   "metadata": {},
   "outputs": [],
   "source": [
    "import numpy as np\n",
    "import pandas as pd"
   ]
  },
  {
   "cell_type": "code",
   "execution_count": 3,
   "id": "265b0cfd",
   "metadata": {},
   "outputs": [
    {
     "name": "stdout",
     "output_type": "stream",
     "text": [
      "[]\n",
      "[[1 1 1 1]\n",
      " [1 1 1 1]\n",
      " [1 1 1 1]]\n"
     ]
    }
   ],
   "source": [
    "# How to create an Empty and Full numpy array\n",
    "# Empty\n",
    "l1=[]\n",
    "arr1=np.array(l1)\n",
    "print(arr1)\n",
    "\n",
    "# Full\n",
    "arr2 = np.full([3,4],1)\n",
    "print(arr2)\n",
    "\n",
    "# Explanation :-\n",
    "# An empty array is an array that has no value or is null.\n",
    "# We can use the empty array later to append the values or modify them."
   ]
  },
  {
   "cell_type": "code",
   "execution_count": 4,
   "id": "8a2e3438",
   "metadata": {},
   "outputs": [
    {
     "name": "stdout",
     "output_type": "stream",
     "text": [
      "[[0. 0. 0. 0.]\n",
      " [0. 0. 0. 0.]\n",
      " [0. 0. 0. 0.]]\n"
     ]
    }
   ],
   "source": [
    "# Create numpy array filled with all Zeros\n",
    "arr3=np.zeros([3,4])\n",
    "print(arr3)\n",
    "\n",
    "# Explanation:-\n",
    "# The numpy.zeros() function returns a new array of given shape and type, with zeros."
   ]
  },
  {
   "cell_type": "code",
   "execution_count": 5,
   "id": "b570d086",
   "metadata": {},
   "outputs": [
    {
     "name": "stdout",
     "output_type": "stream",
     "text": [
      "[[1. 1. 1. 1. 1.]\n",
      " [1. 1. 1. 1. 1.]\n",
      " [1. 1. 1. 1. 1.]\n",
      " [1. 1. 1. 1. 1.]]\n"
     ]
    }
   ],
   "source": [
    "# Create numpy array filled with all Ones\n",
    "arr4 = np.ones([4,5])\n",
    "print(arr4)\n",
    "\n",
    "# Explanation:-\n",
    "# ones() function returns a new array of given shape and data type, where the element's value is set to 1.\n",
    "# This function is very similar to numpy zeros() function."
   ]
  },
  {
   "cell_type": "code",
   "execution_count": 6,
   "id": "96bee981",
   "metadata": {},
   "outputs": [
    {
     "name": "stdout",
     "output_type": "stream",
     "text": [
      "False\n",
      "True\n"
     ]
    }
   ],
   "source": [
    "# Check whether a numpy Array contains specified rows\n",
    "a1=[  [1,2,3],\n",
    "      [4,5,6],\n",
    "      [7,8,9]]\n",
    "arr6=np.array(a1)\n",
    "lst=[4,5,7]\n",
    "lst1=[4,5,6]\n",
    "\n",
    "print(lst in  arr6.tolist())\n",
    "print(lst1 in  arr6.tolist())\n",
    "# Explanation:-\n",
    "# If the given list is present in a NumPy array as a row then the output is True else False.\n",
    "# The list is present in a NumPy array means any row of that numpy array matches with the given \n",
    "# list with all elements in given order"
   ]
  },
  {
   "cell_type": "code",
   "execution_count": 7,
   "id": "28081479",
   "metadata": {},
   "outputs": [
    {
     "name": "stdout",
     "output_type": "stream",
     "text": [
      "[[ 1.  2.  3.]\n",
      " [ 4. nan  5.]\n",
      " [ 6.  7. nan]\n",
      " [ 7.  2.  5.]\n",
      " [ 8.  9. nan]]\n"
     ]
    },
    {
     "data": {
      "text/plain": [
       "array([[1., 2., 3.],\n",
       "       [7., 2., 5.]])"
      ]
     },
     "execution_count": 7,
     "metadata": {},
     "output_type": "execute_result"
    }
   ],
   "source": [
    "# How to remove non-numeric rows from numpy array\n",
    "arr9=np.array([[1,2,3],\n",
    "              [4,np.nan,5],\n",
    "              [6,7,np.nan],\n",
    "              [7,2,5],\n",
    "              [8,9,np.nan]])\n",
    "print(arr9)\n",
    "arr9[np.all(~np.isnan(arr9),axis=1)]\n",
    "\n",
    "# axis 1=Row wise, 0=Column wise in whole array\n",
    "\n",
    "# Explanation :- \n",
    "# Many times we have non-numeric values in NumPy array. These values need to be removed, so that array\n",
    "# will be free from all these unnecessary values and look more decent. \n",
    "# It is possible to remove all rows containing Nan values using the Bitwise NOT operator and np. isnan() function."
   ]
  },
  {
   "cell_type": "code",
   "execution_count": 8,
   "id": "a7885743",
   "metadata": {},
   "outputs": [
    {
     "data": {
      "text/plain": [
       "array([0, 1, 2])"
      ]
     },
     "execution_count": 8,
     "metadata": {},
     "output_type": "execute_result"
    }
   ],
   "source": [
    "# remove a single-dimentional entries from shape of an array\n",
    "arr7=np.array(\n",
    "    [[[0],\n",
    "     [1],\n",
    "     [2]]]\n",
    ")\n",
    "arr8=np.squeeze(arr7)\n",
    "arr8\n",
    "\n",
    "# Explanation :-\n",
    "# squeeze() function is used to remove single-dimensional entries from the shape of an array. \n",
    "# It returns an array with the same data but reshaped dimensions. \n",
    "# This function can be used to reduce the dimensions of an array, \n",
    "# which is useful for data preprocessing in machine learning applications."
   ]
  },
  {
   "cell_type": "code",
   "execution_count": 23,
   "id": "de4a6901",
   "metadata": {},
   "outputs": [
    {
     "data": {
      "text/plain": [
       "3"
      ]
     },
     "execution_count": 23,
     "metadata": {},
     "output_type": "execute_result"
    }
   ],
   "source": [
    "# Find the number of accurences of a sequence in numpy array \n",
    "arrr1=np.array([1,2,3,4,5,3,4,6,7,3,4])\n",
    "\n",
    "repr(arrr1).count(\"3, 4\")\n"
   ]
  },
  {
   "cell_type": "code",
   "execution_count": 47,
   "id": "35d67a8f",
   "metadata": {},
   "outputs": [
    {
     "name": "stdout",
     "output_type": "stream",
     "text": [
      "6\n"
     ]
    }
   ],
   "source": [
    "# Find the most frequent value in numpy array \n",
    "arr10=np.array([1,2,2,6,4,5,6,6,6,7,8,9,9,9,0,11,12,33,44,44,44,0])\n",
    "mode=np.bincount(arr10)\n",
    "mode1=np.argmax(mode)\n",
    "print(mode1)\n",
    "\n",
    "# Explanation :- \n",
    "# in above .bincount() function is used to count the occurence of each element in array\n",
    "# .argmax() mathod to get a value having a maximum value of occurence(Frequency)"
   ]
  },
  {
   "cell_type": "code",
   "execution_count": 72,
   "id": "f3256473",
   "metadata": {},
   "outputs": [
    {
     "data": {
      "text/plain": [
       "array([[ 1,  2,  3,  4],\n",
       "       [11, 22, 33, 44],\n",
       "       [69, 68, 67, 44]])"
      ]
     },
     "execution_count": 72,
     "metadata": {},
     "output_type": "execute_result"
    }
   ],
   "source": [
    "# Combining a one and two-dimensional numpy array\n",
    "ar1=np.array([[1,2,3,4],\n",
    "              [11,22,33,44]])\n",
    "ar2=np.array([69,68,67,44])\n",
    "\n",
    "ar1.shape\n",
    "ar2=ar2.reshape(1,4)\n",
    "\n",
    "ar3=np.concatenate((ar1,ar2),axis=0)\n",
    "ar3\n",
    "\n",
    "# Explanation :- \n",
    "# First thing we have to get the shape of all array and then we have to reshape by same dimensions\n",
    "# after that we can use .concatenate() function to combine two arrays."
   ]
  },
  {
   "cell_type": "code",
   "execution_count": 91,
   "id": "3caf93fd",
   "metadata": {},
   "outputs": [
    {
     "name": "stdout",
     "output_type": "stream",
     "text": [
      "[[1 5]\n",
      " [1 6]\n",
      " [2 5]\n",
      " [2 6]]\n"
     ]
    }
   ],
   "source": [
    "# How to build an array of all combinations of two Numpy arrays?\n",
    "\n",
    "arr12=np.array([1,2])\n",
    "arr13=np.array([5,6])\n",
    "\n",
    "arr14=np.array(np.meshgrid(arr12,arr13)).T.reshape(-1, 2)\n",
    "print(arr14)"
   ]
  },
  {
   "cell_type": "code",
   "execution_count": null,
   "id": "4e74096a",
   "metadata": {},
   "outputs": [],
   "source": []
  },
  {
   "cell_type": "markdown",
   "id": "3233e358",
   "metadata": {},
   "source": [
    "# Numpy\n",
    "## Functions\n",
    "\n",
    "NumPy is a general-purpose array-processing package. It provides a high-performance multidimensional array object and tools for working with these arrays.\n",
    "\n",
    "###### numpy.Squeeze()\n",
    "###### numpy.unique()\n",
    "###### numpy.asmatrix()\n",
    "###### numpy.delete()\n",
    "###### numpy.insert()"
   ]
  },
  {
   "cell_type": "markdown",
   "id": "09639ce6",
   "metadata": {},
   "source": [
    "# 1. Function = np.squeeze()"
   ]
  },
  {
   "cell_type": "code",
   "execution_count": 13,
   "id": "83c050b5",
   "metadata": {},
   "outputs": [
    {
     "name": "stdout",
     "output_type": "stream",
     "text": [
      "[[1 2]\n",
      " [3 4]]\n"
     ]
    }
   ],
   "source": [
    "fn1= np.array([[[1,2],[3,4]]])\n",
    "ans = np.squeeze(fn1)\n",
    "print(ans)"
   ]
  },
  {
   "cell_type": "markdown",
   "id": "f46b62dd",
   "metadata": {},
   "source": [
    "squeeze() function is used to remove single-dimensional entries from the shape of an array. \n",
    "It returns an array with the same data but reshaped dimensions. \n",
    "This function can be used to reduce the dimensions of an array, \n",
    "which is useful for data preprocessing in machine learning applications."
   ]
  },
  {
   "cell_type": "markdown",
   "id": "2f3b6555",
   "metadata": {},
   "source": [
    "# 2. Function = np.unique()"
   ]
  },
  {
   "cell_type": "code",
   "execution_count": 14,
   "id": "d12307df",
   "metadata": {},
   "outputs": [
    {
     "name": "stdout",
     "output_type": "stream",
     "text": [
      "[1 2 3 4 5]\n"
     ]
    }
   ],
   "source": [
    "fn2 = np.array([1,2,2,2,3,4,5,5])\n",
    "ans = np.unique(fn2)\n",
    "print(ans)"
   ]
  },
  {
   "cell_type": "markdown",
   "id": "3d0c607b",
   "metadata": {},
   "source": [
    "The numpy. unique() function finds the unique elements of an array and returns these unique elements as a sorted array."
   ]
  },
  {
   "cell_type": "markdown",
   "id": "76c158ef",
   "metadata": {},
   "source": [
    "# 3. Function=np.asmatrix()"
   ]
  },
  {
   "cell_type": "code",
   "execution_count": 23,
   "id": "306a77ed",
   "metadata": {},
   "outputs": [
    {
     "name": "stdout",
     "output_type": "stream",
     "text": [
      "[[  0   2   3]\n",
      " [200   5   6]]\n",
      "\n",
      " [[  0   2   3]\n",
      " [200   5   6]]\n"
     ]
    }
   ],
   "source": [
    "fn3 = np.array([[1,2,3],[4,5,6]])\n",
    "m=np.asmatrix(fn3)\n",
    "fn3[0,0]=0\n",
    "m[1,0]=200\n",
    "print(fn3)\n",
    "print(\"\\n\",m)"
   ]
  },
  {
   "cell_type": "markdown",
   "id": "40e97ee3",
   "metadata": {},
   "source": [
    " Returns a matrix by interpreting the input as a matrix.\n",
    " whenever you try to change value of one array it will automatically change in matrixed array."
   ]
  },
  {
   "cell_type": "markdown",
   "id": "0b4ffc42",
   "metadata": {},
   "source": [
    "# 4. Function = np.delete()"
   ]
  },
  {
   "cell_type": "code",
   "execution_count": 30,
   "id": "ae08a673",
   "metadata": {},
   "outputs": [
    {
     "name": "stdout",
     "output_type": "stream",
     "text": [
      "[[ 1  2  3  4  5]\n",
      " [ 6  7  8  9 10]\n",
      " [11 12 13 14 15]]\n",
      "\n",
      " [[ 1  2  3  4  5]\n",
      " [11 12 13 14 15]]\n"
     ]
    }
   ],
   "source": [
    "fn4 =np.arange(1,16).reshape(3,5)\n",
    "ans= np.delete(fn4,1,0)\n",
    "print(fn4)\n",
    "print(\"\\n\",ans)"
   ]
  },
  {
   "cell_type": "markdown",
   "id": "02476c75",
   "metadata": {},
   "source": [
    "The numpy. delete() function returns a new array with the deletion of sub-arrays along with the mentioned axis."
   ]
  },
  {
   "cell_type": "markdown",
   "id": "9cb8b44c",
   "metadata": {},
   "source": [
    "# 5. Function = np.insert()"
   ]
  },
  {
   "cell_type": "code",
   "execution_count": 32,
   "id": "3e405b71",
   "metadata": {},
   "outputs": [
    {
     "name": "stdout",
     "output_type": "stream",
     "text": [
      "[ 1  2  0  3  4  5  6  7  8  9 10 11 12 13 14 15 16 17 18 19 20]\n"
     ]
    }
   ],
   "source": [
    "fn5 = np.arange(1,21).reshape(4,5)\n",
    "ans=np.insert(fn5,2,0)\n",
    "print(ans)"
   ]
  },
  {
   "cell_type": "markdown",
   "id": "471cbc64",
   "metadata": {},
   "source": [
    "The NumPy insert() function inserts a value/values along the specified axis at a given index."
   ]
  },
  {
   "cell_type": "code",
   "execution_count": 40,
   "id": "1afefdbd",
   "metadata": {},
   "outputs": [
    {
     "name": "stdout",
     "output_type": "stream",
     "text": [
      "[[ 1  2  3  4 26  5]\n",
      " [ 6  7  8  9 27 10]\n",
      " [11 12 13 14 28 15]\n",
      " [16 17 18 19 29 20]\n",
      " [21 22 23 24 30 25]]\n"
     ]
    }
   ],
   "source": [
    "fn5 = np.arange(1,26).reshape(5,5)\n",
    "fn6=np.arange(26,31).reshape(1,5)\n",
    "ans=np.insert(fn5,4,fn6, axis=1)\n",
    "print(ans)"
   ]
  }
 ],
 "metadata": {
  "kernelspec": {
   "display_name": "Python 3 (ipykernel)",
   "language": "python",
   "name": "python3"
  },
  "language_info": {
   "codemirror_mode": {
    "name": "ipython",
    "version": 3
   },
   "file_extension": ".py",
   "mimetype": "text/x-python",
   "name": "python",
   "nbconvert_exporter": "python",
   "pygments_lexer": "ipython3",
   "version": "3.9.13"
  }
 },
 "nbformat": 4,
 "nbformat_minor": 5
}
